{
 "cells": [
  {
   "cell_type": "code",
   "execution_count": 10,
   "id": "7a1acb85-aaef-42b3-bec4-ad9b09e7dd8a",
   "metadata": {},
   "outputs": [],
   "source": [
    "import pandas as pd\n",
    "from word2number import w2n\n",
    "import numpy as np\n",
    "from sklearn import linear_model\n",
    "import warnings\n",
    "\n",
    "warnings.filterwarnings('ignore')\n",
    "data = pd.read_csv(\"data1.csv\")\n",
    "for i in range(data.experience.size):\n",
    "    if(data.experience[i]==data.experience[i]):\n",
    "        data.experience[i] = w2n.word_to_num(data.experience[i])\n",
    "\n",
    "data[\"test_score(out of 10)\"] = pd.Categorical(data[\"test_score(out of 10)\"])\n",
    "data[\"interview_score(out of 10)\"] = pd.Categorical(data[\"interview_score(out of 10)\"])\n",
    "\n",
    "data['experience'] = (data['experience'].fillna(data['experience'].mean())).astype(int)\n",
    "data['test_score(out of 10)'] = (data['test_score(out of 10)'].fillna(data['test_score(out of 10)'].mode()[0]))\n",
    "   \n",
    "X = data.iloc[:,0:3]\n",
    "y = data.iloc[:,3] \n",
    "\n",
    "model_reg = linear_model.LinearRegression()\n",
    "model_reg.fit(X, y)\n",
    "\n",
    "X_new = [[2, 9, 6], [12, 10, 12]]\n",
    "X_for_predict = pd.DataFrame(X_new, columns=['experience', 'test_score(out of 10)', 'interview_score(out of 10)'])\n",
    "\n",
    "y_predict = model_reg.predict(X_new).astype(int)\n",
    "y_predict\n",
    "\n",
    "with open('result_task_1.txt', 'w') as f:\n",
    "    f.write(\"predict 1 : \" + str(y_predict[0]))\n",
    "    f.write(\"\\n\")\n",
    "    f.write(\"predict 2 : \" + str(y_predict[1]))\n",
    "    \n"
   ]
  },
  {
   "cell_type": "code",
   "execution_count": null,
   "id": "4fed26e8-9c2a-4217-b70f-fe2104da3a1b",
   "metadata": {},
   "outputs": [],
   "source": []
  }
 ],
 "metadata": {
  "kernelspec": {
   "display_name": "Python 3 (ipykernel)",
   "language": "python",
   "name": "python3"
  },
  "language_info": {
   "codemirror_mode": {
    "name": "ipython",
    "version": 3
   },
   "file_extension": ".py",
   "mimetype": "text/x-python",
   "name": "python",
   "nbconvert_exporter": "python",
   "pygments_lexer": "ipython3",
   "version": "3.10.8"
  }
 },
 "nbformat": 4,
 "nbformat_minor": 5
}
