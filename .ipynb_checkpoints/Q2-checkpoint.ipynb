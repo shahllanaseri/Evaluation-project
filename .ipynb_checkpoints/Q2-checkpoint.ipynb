{
 "cells": [
  {
   "cell_type": "code",
   "execution_count": null,
   "id": "e0470b5b-3ca0-4d39-b31b-d8c2fea79de4",
   "metadata": {},
   "outputs": [],
   "source": [
    "import pandas as pd\n",
    "import numpy as np\n",
    "from sklearn import linear_model\n",
    "import warnings\n",
    "import math\n",
    "\n",
    "warnings.filterwarnings('ignore')\n",
    "data = pd.read_csv(\"data2.csv\")\n",
    "X = data.math\n",
    "y = (data.cs).to_numpy()[np.newaxis].T\n",
    "\n",
    "def cost_func(theta,X,y):\n",
    "    #m : number of observations.\n",
    "    m = len(y)\n",
    "    # c : cost \n",
    "    c = (1/2*m) * np.sum(np.square((X.dot(theta))-y))  \n",
    "    return c\n",
    "\n",
    "def gradient_descent(X,y,theta,alpha):\n",
    "    #m : number of observations.\n",
    "    m = len(y)\n",
    "    \n",
    "    # Initializing cost and theta's arrays with zeroes.\n",
    "    theta = theta - (1/m)*alpha*(X.T.dot((X.dot(theta))-y))\n",
    "    cost_previous = cost_func(theta,X,y)\n",
    "    theta = theta - (1/m)*alpha*(X.T.dot((X.dot(theta))-y))\n",
    "    cost_new = cost_func(theta,X,y)\n",
    "    \n",
    "    # Calculating theta for every iteration.\n",
    "    while not math.isclose(cost_new, cost_previous, rel_tol=1e-20):\n",
    "            theta = theta - (1/m)*alpha*(X.T.dot((X.dot(theta))-y))\n",
    "            cost_previous = cost_new\n",
    "            cost_new = cost_func(theta,X,y)\n",
    "            \n",
    "    return theta, cost_new\n",
    "\n",
    "# Learning Rate\n",
    "alpha = 0.0001\n",
    "# stop algorithm\n",
    "rel_tol = 1e-20\n",
    "# Initializing a random value to give algorithm a base value.\n",
    "theta = np.random.randn(2,1)\n",
    "# Adding a biasing constant of value 1 to the features array.\n",
    "X_bias = np.c_[np.ones((len(X),1)),X]\n",
    "\n",
    "# Running Gradient Descent\n",
    "theta, cost_new = gradient_descent(X_bias,y,theta,alpha)\n",
    "\n",
    "result = {\"learning rate\" : [alpha], \"intercept\" : [theta[0]], \"coefficient\" : [theta[1]]}\n",
    "result = pd.DataFrame(result)\n",
    "result.to_csv(\"result_task_2.csv\",index=False)\n"
   ]
  }
 ],
 "metadata": {
  "kernelspec": {
   "display_name": "Python 3 (ipykernel)",
   "language": "python",
   "name": "python3"
  },
  "language_info": {
   "codemirror_mode": {
    "name": "ipython",
    "version": 3
   },
   "file_extension": ".py",
   "mimetype": "text/x-python",
   "name": "python",
   "nbconvert_exporter": "python",
   "pygments_lexer": "ipython3",
   "version": "3.10.8"
  }
 },
 "nbformat": 4,
 "nbformat_minor": 5
}
